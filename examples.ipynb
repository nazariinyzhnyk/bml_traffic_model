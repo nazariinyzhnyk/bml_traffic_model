{
 "cells": [
  {
   "cell_type": "code",
   "execution_count": 1,
   "metadata": {
    "collapsed": true
   },
   "outputs": [],
   "source": [
    "import numpy as np\n",
    "import matplotlib.pyplot as plt\n",
    "import warnings\n",
    "import argparse\n",
    "from matplotlib.colors import ListedColormap\n",
    "from moves import car_moves, get_field, plot_matrix\n",
    "warnings.filterwarnings(\"ignore\")\n",
    "cmap = ListedColormap(['white', '#95d0fc', '#ff474c'])"
   ]
  },
  {
   "cell_type": "code",
   "execution_count": 3,
   "metadata": {},
   "outputs": [
    {
     "data": {
      "image/png": "[encoded data removed]",
      "text/plain": [
       "<Figure size 432x288 with 1 Axes>"
      ]
     },
     "metadata": {
      "needs_background": "light"
     },
     "output_type": "display_data"
    }
   ],
   "source": [
    "plt.ion()\n",
    "plt.figure()\n",
    "field = get_field(15, 15, [0.2, 0.2])\n",
    "plot_matrix(field, 'Initial matrix')\n",
    "prev_iter_field = field.copy()"
   ]
  },
  {
   "cell_type": "code",
   "execution_count": null,
   "metadata": {},
   "outputs": [],
   "source": [
    "for i in range(int(args.iterations)):\n",
    "    title_iter_num = str(i + 1)\n",
    "    field = car_moves(field)\n",
    "    if np.array_equal(np.array(field), np.array(prev_iter_field)):\n",
    "        print('System stucked after ' + title_iter_num + ' iterations.')\n",
    "        plot_matrix(field, 'Final iteration = ' + title_iter_num, pause_time=5.0)\n",
    "        break\n",
    "    elif i == int(args.iterations) - 1:\n",
    "        print('All iterations passed.')\n",
    "        plot_matrix(field, 'Final iteration = ' + title_iter_num, pause_time=5.0)\n",
    "    else:\n",
    "        plot_matrix(field, 'Iteration = ' + title_iter_num, pause_time=float(args.sleep))\n",
    "        prev_iter_field = field.copy()"
   ]
  }
 ],
 "metadata": {
  "kernelspec": {
   "display_name": "Python 3",
   "language": "python",
   "name": "python3"
  },
  "language_info": {
   "codemirror_mode": {
    "name": "ipython",
    "version": 3
   },
   "file_extension": ".py",
   "mimetype": "text/x-python",
   "name": "python",
   "nbconvert_exporter": "python",
   "pygments_lexer": "ipython3",
   "version": "3.7.1"
  }
 },
 "nbformat": 4,
 "nbformat_minor": 2
}
